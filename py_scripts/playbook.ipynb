{
 "cells": [
  {
   "cell_type": "markdown",
   "metadata": {},
   "source": [
    "### Create txt file containing list of pdb ids (extracted from Guy's general set)\n",
    "\n",
    "This is the pdbbind 2020 general set, but filtered to legal proteins only (check rotation_2_notes)"
   ]
  },
  {
   "cell_type": "code",
   "execution_count": 10,
   "metadata": {},
   "outputs": [],
   "source": [
    "with open('../../PointVS-analysis/types_files/pdbbind_2020_general_pymol.types') as f:\n",
    "    lines = f.readlines()\n",
    "    pdbs = []\n",
    "    for line in lines:\n",
    "        if len(line)==76:\n",
    "            pdbs.append(line[11:15])\n",
    "        elif len(line)>76:\n",
    "            pdbs.append(line[12:16])\n",
    "        \n",
    "with open('../Data/ids/filtered_pdbbind_2020_general_id.txt', 'w') as f:\n",
    "    f.write('\\n'.join(pdbs))\n"
   ]
  },
  {
   "cell_type": "markdown",
   "metadata": {},
   "source": [
    "### Generate types files for the general set, with random splitting into train/val sets"
   ]
  },
  {
   "cell_type": "code",
   "execution_count": 1,
   "metadata": {},
   "outputs": [
    {
     "data": {
      "text/plain": [
       "<GenerateTypes.GenerateTypes at 0x10797f520>"
      ]
     },
     "execution_count": 1,
     "metadata": {},
     "output_type": "execute_result"
    }
   ],
   "source": [
    "from GenerateTypes import GenerateTypes\n",
    "GenerateTypes('../Data/pdbbind_2020_general/index/INDEX_general_PL_data.2020', '../Data/ids/filtered_pdbbind_2020_general_id.txt', out_path='../Data/types/')"
   ]
  },
  {
   "cell_type": "code",
   "execution_count": null,
   "metadata": {},
   "outputs": [],
   "source": []
  }
 ],
 "metadata": {
  "kernelspec": {
   "display_name": "Python 3.10.5 ('PointVS_eval')",
   "language": "python",
   "name": "python3"
  },
  "language_info": {
   "codemirror_mode": {
    "name": "ipython",
    "version": 3
   },
   "file_extension": ".py",
   "mimetype": "text/x-python",
   "name": "python",
   "nbconvert_exporter": "python",
   "pygments_lexer": "ipython3",
   "version": "3.10.5"
  },
  "orig_nbformat": 4,
  "vscode": {
   "interpreter": {
    "hash": "73054ae673eb7cc6494f8462c33a70255695a2e84abbdce75b9663d76df82988"
   }
  }
 },
 "nbformat": 4,
 "nbformat_minor": 2
}
